{
  "nbformat": 4,
  "nbformat_minor": 0,
  "metadata": {
    "colab": {
      "provenance": []
    },
    "kernelspec": {
      "name": "python3",
      "display_name": "Python 3"
    },
    "language_info": {
      "name": "python"
    }
  },
  "cells": [
    {
      "cell_type": "markdown",
      "source": [
        "### Importação dos dados\n",
        "\n"
      ],
      "metadata": {
        "id": "RhEdWd9YUR6H"
      }
    },
    {
      "cell_type": "code",
      "execution_count": 2,
      "metadata": {
        "colab": {
          "base_uri": "https://localhost:8080/",
          "height": 206
        },
        "id": "T3EvaeQ_INIL",
        "outputId": "a64cf194-9c4b-4616-8702-f6fefcfffc50"
      },
      "outputs": [
        {
          "output_type": "execute_result",
          "data": {
            "text/plain": [
              "                 Produto Categoria do Produto    Preço      Frete  \\\n",
              "0     Assistente virtual          eletronicos   219.08   9.249790   \n",
              "1         Mesa de jantar               moveis   256.35  11.234305   \n",
              "2      Jogo de tabuleiro           brinquedos   279.51  21.262681   \n",
              "3            Micro-ondas     eletrodomesticos  1009.99  54.667344   \n",
              "4  Cadeira de escritório               moveis   446.99  26.964689   \n",
              "\n",
              "  Data da Compra        Vendedor Local da compra  Avaliação da compra  \\\n",
              "0     16/01/2021     Pedro Gomes              SP                    4   \n",
              "1     18/05/2022  Beatriz Moraes              RJ                    1   \n",
              "2     15/03/2021      João Souza              DF                    1   \n",
              "3     03/05/2022      João Souza              RS                    4   \n",
              "4     07/11/2020   Larissa Alves              MG                    5   \n",
              "\n",
              "  Tipo de pagamento  Quantidade de parcelas    lat    lon  \n",
              "0    cartao_credito                       8 -22.19 -48.79  \n",
              "1    cartao_credito                       4 -22.25 -42.66  \n",
              "2    cartao_credito                       1 -15.83 -47.86  \n",
              "3            boleto                       1 -30.17 -53.50  \n",
              "4            boleto                       1 -18.10 -44.38  "
            ],
            "text/html": [
              "\n",
              "  <div id=\"df-01fc56ce-3a41-43ec-b13e-36b64ce0050f\" class=\"colab-df-container\">\n",
              "    <div>\n",
              "<style scoped>\n",
              "    .dataframe tbody tr th:only-of-type {\n",
              "        vertical-align: middle;\n",
              "    }\n",
              "\n",
              "    .dataframe tbody tr th {\n",
              "        vertical-align: top;\n",
              "    }\n",
              "\n",
              "    .dataframe thead th {\n",
              "        text-align: right;\n",
              "    }\n",
              "</style>\n",
              "<table border=\"1\" class=\"dataframe\">\n",
              "  <thead>\n",
              "    <tr style=\"text-align: right;\">\n",
              "      <th></th>\n",
              "      <th>Produto</th>\n",
              "      <th>Categoria do Produto</th>\n",
              "      <th>Preço</th>\n",
              "      <th>Frete</th>\n",
              "      <th>Data da Compra</th>\n",
              "      <th>Vendedor</th>\n",
              "      <th>Local da compra</th>\n",
              "      <th>Avaliação da compra</th>\n",
              "      <th>Tipo de pagamento</th>\n",
              "      <th>Quantidade de parcelas</th>\n",
              "      <th>lat</th>\n",
              "      <th>lon</th>\n",
              "    </tr>\n",
              "  </thead>\n",
              "  <tbody>\n",
              "    <tr>\n",
              "      <th>0</th>\n",
              "      <td>Assistente virtual</td>\n",
              "      <td>eletronicos</td>\n",
              "      <td>219.08</td>\n",
              "      <td>9.249790</td>\n",
              "      <td>16/01/2021</td>\n",
              "      <td>Pedro Gomes</td>\n",
              "      <td>SP</td>\n",
              "      <td>4</td>\n",
              "      <td>cartao_credito</td>\n",
              "      <td>8</td>\n",
              "      <td>-22.19</td>\n",
              "      <td>-48.79</td>\n",
              "    </tr>\n",
              "    <tr>\n",
              "      <th>1</th>\n",
              "      <td>Mesa de jantar</td>\n",
              "      <td>moveis</td>\n",
              "      <td>256.35</td>\n",
              "      <td>11.234305</td>\n",
              "      <td>18/05/2022</td>\n",
              "      <td>Beatriz Moraes</td>\n",
              "      <td>RJ</td>\n",
              "      <td>1</td>\n",
              "      <td>cartao_credito</td>\n",
              "      <td>4</td>\n",
              "      <td>-22.25</td>\n",
              "      <td>-42.66</td>\n",
              "    </tr>\n",
              "    <tr>\n",
              "      <th>2</th>\n",
              "      <td>Jogo de tabuleiro</td>\n",
              "      <td>brinquedos</td>\n",
              "      <td>279.51</td>\n",
              "      <td>21.262681</td>\n",
              "      <td>15/03/2021</td>\n",
              "      <td>João Souza</td>\n",
              "      <td>DF</td>\n",
              "      <td>1</td>\n",
              "      <td>cartao_credito</td>\n",
              "      <td>1</td>\n",
              "      <td>-15.83</td>\n",
              "      <td>-47.86</td>\n",
              "    </tr>\n",
              "    <tr>\n",
              "      <th>3</th>\n",
              "      <td>Micro-ondas</td>\n",
              "      <td>eletrodomesticos</td>\n",
              "      <td>1009.99</td>\n",
              "      <td>54.667344</td>\n",
              "      <td>03/05/2022</td>\n",
              "      <td>João Souza</td>\n",
              "      <td>RS</td>\n",
              "      <td>4</td>\n",
              "      <td>boleto</td>\n",
              "      <td>1</td>\n",
              "      <td>-30.17</td>\n",
              "      <td>-53.50</td>\n",
              "    </tr>\n",
              "    <tr>\n",
              "      <th>4</th>\n",
              "      <td>Cadeira de escritório</td>\n",
              "      <td>moveis</td>\n",
              "      <td>446.99</td>\n",
              "      <td>26.964689</td>\n",
              "      <td>07/11/2020</td>\n",
              "      <td>Larissa Alves</td>\n",
              "      <td>MG</td>\n",
              "      <td>5</td>\n",
              "      <td>boleto</td>\n",
              "      <td>1</td>\n",
              "      <td>-18.10</td>\n",
              "      <td>-44.38</td>\n",
              "    </tr>\n",
              "  </tbody>\n",
              "</table>\n",
              "</div>\n",
              "    <div class=\"colab-df-buttons\">\n",
              "\n",
              "  <div class=\"colab-df-container\">\n",
              "    <button class=\"colab-df-convert\" onclick=\"convertToInteractive('df-01fc56ce-3a41-43ec-b13e-36b64ce0050f')\"\n",
              "            title=\"Convert this dataframe to an interactive table.\"\n",
              "            style=\"display:none;\">\n",
              "\n",
              "  <svg xmlns=\"http://www.w3.org/2000/svg\" height=\"24px\" viewBox=\"0 -960 960 960\">\n",
              "    <path d=\"M120-120v-720h720v720H120Zm60-500h600v-160H180v160Zm220 220h160v-160H400v160Zm0 220h160v-160H400v160ZM180-400h160v-160H180v160Zm440 0h160v-160H620v160ZM180-180h160v-160H180v160Zm440 0h160v-160H620v160Z\"/>\n",
              "  </svg>\n",
              "    </button>\n",
              "\n",
              "  <style>\n",
              "    .colab-df-container {\n",
              "      display:flex;\n",
              "      gap: 12px;\n",
              "    }\n",
              "\n",
              "    .colab-df-convert {\n",
              "      background-color: #E8F0FE;\n",
              "      border: none;\n",
              "      border-radius: 50%;\n",
              "      cursor: pointer;\n",
              "      display: none;\n",
              "      fill: #1967D2;\n",
              "      height: 32px;\n",
              "      padding: 0 0 0 0;\n",
              "      width: 32px;\n",
              "    }\n",
              "\n",
              "    .colab-df-convert:hover {\n",
              "      background-color: #E2EBFA;\n",
              "      box-shadow: 0px 1px 2px rgba(60, 64, 67, 0.3), 0px 1px 3px 1px rgba(60, 64, 67, 0.15);\n",
              "      fill: #174EA6;\n",
              "    }\n",
              "\n",
              "    .colab-df-buttons div {\n",
              "      margin-bottom: 4px;\n",
              "    }\n",
              "\n",
              "    [theme=dark] .colab-df-convert {\n",
              "      background-color: #3B4455;\n",
              "      fill: #D2E3FC;\n",
              "    }\n",
              "\n",
              "    [theme=dark] .colab-df-convert:hover {\n",
              "      background-color: #434B5C;\n",
              "      box-shadow: 0px 1px 3px 1px rgba(0, 0, 0, 0.15);\n",
              "      filter: drop-shadow(0px 1px 2px rgba(0, 0, 0, 0.3));\n",
              "      fill: #FFFFFF;\n",
              "    }\n",
              "  </style>\n",
              "\n",
              "    <script>\n",
              "      const buttonEl =\n",
              "        document.querySelector('#df-01fc56ce-3a41-43ec-b13e-36b64ce0050f button.colab-df-convert');\n",
              "      buttonEl.style.display =\n",
              "        google.colab.kernel.accessAllowed ? 'block' : 'none';\n",
              "\n",
              "      async function convertToInteractive(key) {\n",
              "        const element = document.querySelector('#df-01fc56ce-3a41-43ec-b13e-36b64ce0050f');\n",
              "        const dataTable =\n",
              "          await google.colab.kernel.invokeFunction('convertToInteractive',\n",
              "                                                    [key], {});\n",
              "        if (!dataTable) return;\n",
              "\n",
              "        const docLinkHtml = 'Like what you see? Visit the ' +\n",
              "          '<a target=\"_blank\" href=https://colab.research.google.com/notebooks/data_table.ipynb>data table notebook</a>'\n",
              "          + ' to learn more about interactive tables.';\n",
              "        element.innerHTML = '';\n",
              "        dataTable['output_type'] = 'display_data';\n",
              "        await google.colab.output.renderOutput(dataTable, element);\n",
              "        const docLink = document.createElement('div');\n",
              "        docLink.innerHTML = docLinkHtml;\n",
              "        element.appendChild(docLink);\n",
              "      }\n",
              "    </script>\n",
              "  </div>\n",
              "\n",
              "\n",
              "    <div id=\"df-20f17e51-ebb4-4c9e-9c7a-c1fd7da2aeb7\">\n",
              "      <button class=\"colab-df-quickchart\" onclick=\"quickchart('df-20f17e51-ebb4-4c9e-9c7a-c1fd7da2aeb7')\"\n",
              "                title=\"Suggest charts\"\n",
              "                style=\"display:none;\">\n",
              "\n",
              "<svg xmlns=\"http://www.w3.org/2000/svg\" height=\"24px\"viewBox=\"0 0 24 24\"\n",
              "     width=\"24px\">\n",
              "    <g>\n",
              "        <path d=\"M19 3H5c-1.1 0-2 .9-2 2v14c0 1.1.9 2 2 2h14c1.1 0 2-.9 2-2V5c0-1.1-.9-2-2-2zM9 17H7v-7h2v7zm4 0h-2V7h2v10zm4 0h-2v-4h2v4z\"/>\n",
              "    </g>\n",
              "</svg>\n",
              "      </button>\n",
              "\n",
              "<style>\n",
              "  .colab-df-quickchart {\n",
              "      --bg-color: #E8F0FE;\n",
              "      --fill-color: #1967D2;\n",
              "      --hover-bg-color: #E2EBFA;\n",
              "      --hover-fill-color: #174EA6;\n",
              "      --disabled-fill-color: #AAA;\n",
              "      --disabled-bg-color: #DDD;\n",
              "  }\n",
              "\n",
              "  [theme=dark] .colab-df-quickchart {\n",
              "      --bg-color: #3B4455;\n",
              "      --fill-color: #D2E3FC;\n",
              "      --hover-bg-color: #434B5C;\n",
              "      --hover-fill-color: #FFFFFF;\n",
              "      --disabled-bg-color: #3B4455;\n",
              "      --disabled-fill-color: #666;\n",
              "  }\n",
              "\n",
              "  .colab-df-quickchart {\n",
              "    background-color: var(--bg-color);\n",
              "    border: none;\n",
              "    border-radius: 50%;\n",
              "    cursor: pointer;\n",
              "    display: none;\n",
              "    fill: var(--fill-color);\n",
              "    height: 32px;\n",
              "    padding: 0;\n",
              "    width: 32px;\n",
              "  }\n",
              "\n",
              "  .colab-df-quickchart:hover {\n",
              "    background-color: var(--hover-bg-color);\n",
              "    box-shadow: 0 1px 2px rgba(60, 64, 67, 0.3), 0 1px 3px 1px rgba(60, 64, 67, 0.15);\n",
              "    fill: var(--button-hover-fill-color);\n",
              "  }\n",
              "\n",
              "  .colab-df-quickchart-complete:disabled,\n",
              "  .colab-df-quickchart-complete:disabled:hover {\n",
              "    background-color: var(--disabled-bg-color);\n",
              "    fill: var(--disabled-fill-color);\n",
              "    box-shadow: none;\n",
              "  }\n",
              "\n",
              "  .colab-df-spinner {\n",
              "    border: 2px solid var(--fill-color);\n",
              "    border-color: transparent;\n",
              "    border-bottom-color: var(--fill-color);\n",
              "    animation:\n",
              "      spin 1s steps(1) infinite;\n",
              "  }\n",
              "\n",
              "  @keyframes spin {\n",
              "    0% {\n",
              "      border-color: transparent;\n",
              "      border-bottom-color: var(--fill-color);\n",
              "      border-left-color: var(--fill-color);\n",
              "    }\n",
              "    20% {\n",
              "      border-color: transparent;\n",
              "      border-left-color: var(--fill-color);\n",
              "      border-top-color: var(--fill-color);\n",
              "    }\n",
              "    30% {\n",
              "      border-color: transparent;\n",
              "      border-left-color: var(--fill-color);\n",
              "      border-top-color: var(--fill-color);\n",
              "      border-right-color: var(--fill-color);\n",
              "    }\n",
              "    40% {\n",
              "      border-color: transparent;\n",
              "      border-right-color: var(--fill-color);\n",
              "      border-top-color: var(--fill-color);\n",
              "    }\n",
              "    60% {\n",
              "      border-color: transparent;\n",
              "      border-right-color: var(--fill-color);\n",
              "    }\n",
              "    80% {\n",
              "      border-color: transparent;\n",
              "      border-right-color: var(--fill-color);\n",
              "      border-bottom-color: var(--fill-color);\n",
              "    }\n",
              "    90% {\n",
              "      border-color: transparent;\n",
              "      border-bottom-color: var(--fill-color);\n",
              "    }\n",
              "  }\n",
              "</style>\n",
              "\n",
              "      <script>\n",
              "        async function quickchart(key) {\n",
              "          const quickchartButtonEl =\n",
              "            document.querySelector('#' + key + ' button');\n",
              "          quickchartButtonEl.disabled = true;  // To prevent multiple clicks.\n",
              "          quickchartButtonEl.classList.add('colab-df-spinner');\n",
              "          try {\n",
              "            const charts = await google.colab.kernel.invokeFunction(\n",
              "                'suggestCharts', [key], {});\n",
              "          } catch (error) {\n",
              "            console.error('Error during call to suggestCharts:', error);\n",
              "          }\n",
              "          quickchartButtonEl.classList.remove('colab-df-spinner');\n",
              "          quickchartButtonEl.classList.add('colab-df-quickchart-complete');\n",
              "        }\n",
              "        (() => {\n",
              "          let quickchartButtonEl =\n",
              "            document.querySelector('#df-20f17e51-ebb4-4c9e-9c7a-c1fd7da2aeb7 button');\n",
              "          quickchartButtonEl.style.display =\n",
              "            google.colab.kernel.accessAllowed ? 'block' : 'none';\n",
              "        })();\n",
              "      </script>\n",
              "    </div>\n",
              "\n",
              "    </div>\n",
              "  </div>\n"
            ],
            "application/vnd.google.colaboratory.intrinsic+json": {
              "type": "dataframe",
              "variable_name": "loja",
              "summary": "{\n  \"name\": \"loja\",\n  \"rows\": 2359,\n  \"fields\": [\n    {\n      \"column\": \"Produto\",\n      \"properties\": {\n        \"dtype\": \"category\",\n        \"num_unique_values\": 51,\n        \"samples\": [\n          \"Viol\\u00e3o\",\n          \"Bola de basquete\",\n          \"Smartwatch\"\n        ],\n        \"semantic_type\": \"\",\n        \"description\": \"\"\n      }\n    },\n    {\n      \"column\": \"Categoria do Produto\",\n      \"properties\": {\n        \"dtype\": \"category\",\n        \"num_unique_values\": 8,\n        \"samples\": [\n          \"moveis\",\n          \"esporte e lazer\",\n          \"eletronicos\"\n        ],\n        \"semantic_type\": \"\",\n        \"description\": \"\"\n      }\n    },\n    {\n      \"column\": \"Pre\\u00e7o\",\n      \"properties\": {\n        \"dtype\": \"number\",\n        \"std\": 819.5827782539145,\n        \"min\": 10.07,\n        \"max\": 3969.38,\n        \"num_unique_values\": 2315,\n        \"samples\": [\n          446.11,\n          107.31,\n          65.86\n        ],\n        \"semantic_type\": \"\",\n        \"description\": \"\"\n      }\n    },\n    {\n      \"column\": \"Frete\",\n      \"properties\": {\n        \"dtype\": \"number\",\n        \"std\": 43.814183327408166,\n        \"min\": 0.0,\n        \"max\": 214.3770604781,\n        \"num_unique_values\": 2149,\n        \"samples\": [\n          83.815279607,\n          16.069664669,\n          14.0344876928\n        ],\n        \"semantic_type\": \"\",\n        \"description\": \"\"\n      }\n    },\n    {\n      \"column\": \"Data da Compra\",\n      \"properties\": {\n        \"dtype\": \"object\",\n        \"num_unique_values\": 1018,\n        \"samples\": [\n          \"15/09/2022\",\n          \"03/06/2020\",\n          \"06/11/2021\"\n        ],\n        \"semantic_type\": \"\",\n        \"description\": \"\"\n      }\n    },\n    {\n      \"column\": \"Vendedor\",\n      \"properties\": {\n        \"dtype\": \"category\",\n        \"num_unique_values\": 14,\n        \"samples\": [\n          \"Juliana Costa\",\n          \"Mariana Ferreira\",\n          \"Pedro Gomes\"\n        ],\n        \"semantic_type\": \"\",\n        \"description\": \"\"\n      }\n    },\n    {\n      \"column\": \"Local da compra\",\n      \"properties\": {\n        \"dtype\": \"category\",\n        \"num_unique_values\": 26,\n        \"samples\": [\n          \"TO\",\n          \"RN\",\n          \"SP\"\n        ],\n        \"semantic_type\": \"\",\n        \"description\": \"\"\n      }\n    },\n    {\n      \"column\": \"Avalia\\u00e7\\u00e3o da compra\",\n      \"properties\": {\n        \"dtype\": \"number\",\n        \"std\": 1,\n        \"min\": 1,\n        \"max\": 5,\n        \"num_unique_values\": 5,\n        \"samples\": [\n          1,\n          2,\n          5\n        ],\n        \"semantic_type\": \"\",\n        \"description\": \"\"\n      }\n    },\n    {\n      \"column\": \"Tipo de pagamento\",\n      \"properties\": {\n        \"dtype\": \"category\",\n        \"num_unique_values\": 4,\n        \"samples\": [\n          \"boleto\",\n          \"cartao_debito\",\n          \"cartao_credito\"\n        ],\n        \"semantic_type\": \"\",\n        \"description\": \"\"\n      }\n    },\n    {\n      \"column\": \"Quantidade de parcelas\",\n      \"properties\": {\n        \"dtype\": \"number\",\n        \"std\": 2,\n        \"min\": 1,\n        \"max\": 24,\n        \"num_unique_values\": 15,\n        \"samples\": [\n          7,\n          14,\n          8\n        ],\n        \"semantic_type\": \"\",\n        \"description\": \"\"\n      }\n    },\n    {\n      \"column\": \"lat\",\n      \"properties\": {\n        \"dtype\": \"number\",\n        \"std\": 5.372399916530833,\n        \"min\": -30.17,\n        \"max\": 1.41,\n        \"num_unique_values\": 26,\n        \"samples\": [\n          -9.46,\n          -5.81,\n          -22.19\n        ],\n        \"semantic_type\": \"\",\n        \"description\": \"\"\n      }\n    },\n    {\n      \"column\": \"lon\",\n      \"properties\": {\n        \"dtype\": \"number\",\n        \"std\": 4.183180020544179,\n        \"min\": -70.55,\n        \"max\": -36.59,\n        \"num_unique_values\": 26,\n        \"samples\": [\n          -48.26,\n          -36.59,\n          -48.79\n        ],\n        \"semantic_type\": \"\",\n        \"description\": \"\"\n      }\n    }\n  ]\n}"
            }
          },
          "metadata": {},
          "execution_count": 2
        }
      ],
      "source": [
        "import pandas as pd\n",
        "\n",
        "url = \"https://raw.githubusercontent.com/alura-es-cursos/challenge1-data-science/refs/heads/main/base-de-dados-challenge-1/loja_1.csv\"\n",
        "url2 = \"https://raw.githubusercontent.com/alura-es-cursos/challenge1-data-science/refs/heads/main/base-de-dados-challenge-1/loja_2.csv\"\n",
        "url3 = \"https://raw.githubusercontent.com/alura-es-cursos/challenge1-data-science/refs/heads/main/base-de-dados-challenge-1/loja_3.csv\"\n",
        "url4 = \"https://raw.githubusercontent.com/alura-es-cursos/challenge1-data-science/refs/heads/main/base-de-dados-challenge-1/loja_4.csv\"\n",
        "\n",
        "loja = pd.read_csv(url)\n",
        "loja2 = pd.read_csv(url2)\n",
        "loja3 = pd.read_csv(url3)\n",
        "loja4 = pd.read_csv(url4)\n",
        "\n",
        "loja.head()"
      ]
    },
    {
      "cell_type": "markdown",
      "source": [
        "#1. Análise do faturamento\n"
      ],
      "metadata": {
        "id": "X62IW3KFUIYm"
      }
    },
    {
      "cell_type": "code",
      "source": [
        "# Transformar DataFrames em listas de dicionários\n",
        "dados_loja1 = loja.to_dict(orient='records')\n",
        "dados_loja2 = loja2.to_dict(orient='records')\n",
        "dados_loja3 = loja3.to_dict(orient='records')\n",
        "dados_loja4 = loja4.to_dict(orient='records')\n",
        "\n",
        "\n",
        "# Define função para somar apenas o Preço\n",
        "def calcular_faturamento(lista_vendas):\n",
        "    total = 0\n",
        "    for venda in lista_vendas:\n",
        "        total += venda['Preço']\n",
        "    return round(total, 2)\n",
        "\n",
        "# Calcula faturamento das lojas\n",
        "faturamento_loja1 = calcular_faturamento(dados_loja1)\n",
        "faturamento_loja2 = calcular_faturamento(dados_loja2)\n",
        "faturamento_loja3 = calcular_faturamento(dados_loja3)\n",
        "faturamento_loja4 = calcular_faturamento(dados_loja4)\n",
        "\n",
        "# Faturamento de Cada Loja (sem considerar frete)\n",
        "print(\"Faturamento Loja 1:\", faturamento_loja1)\n",
        "print(\"Faturamento Loja 2:\", faturamento_loja2)\n",
        "print(\"Faturamento Loja 3:\", faturamento_loja3)\n",
        "print(\"Faturamento Loja 4:\", faturamento_loja4)\n",
        "\n"
      ],
      "metadata": {
        "id": "xykobSftV64I",
        "colab": {
          "base_uri": "https://localhost:8080/"
        },
        "outputId": "d2041e01-4804-4d15-e489-3b92b0878a7a"
      },
      "execution_count": 3,
      "outputs": [
        {
          "output_type": "stream",
          "name": "stdout",
          "text": [
            "Faturamento Loja 1: 1534509.12\n",
            "Faturamento Loja 2: 1488459.06\n",
            "Faturamento Loja 3: 1464025.03\n",
            "Faturamento Loja 4: 1384497.58\n"
          ]
        }
      ]
    },
    {
      "cell_type": "code",
      "source": [
        "# Guarda os faturamentos em dicionário\n",
        "faturamentos = {\n",
        "    'Loja 1': faturamento_loja1,\n",
        "    'Loja 2': faturamento_loja2,\n",
        "    'Loja 3': faturamento_loja3,\n",
        "    'Loja 4': faturamento_loja4\n",
        "}\n",
        "\n",
        "# Calcula maior faturamento\n",
        "maior_loja = max(faturamentos, key=faturamentos.get)\n",
        "maior_valor = faturamentos[maior_loja]\n",
        "\n",
        "# Calcula menor faturamento\n",
        "menor_loja = min(faturamentos, key=faturamentos.get)\n",
        "menor_valor = faturamentos[menor_loja]\n",
        "\n",
        "print(f\"A loja com o maior faturamento foi a {maior_loja} e a com o menor faturamento foi a {menor_loja}\")\n"
      ],
      "metadata": {
        "id": "KDyr8E71V3m-",
        "colab": {
          "base_uri": "https://localhost:8080/"
        },
        "outputId": "1ce8c03b-2d88-4999-e623-78a6b8258db6"
      },
      "execution_count": 6,
      "outputs": [
        {
          "output_type": "stream",
          "name": "stdout",
          "text": [
            "A loja com o maior faturamento foi a Loja 1 e a com o menor faturamento foi a Loja 4\n"
          ]
        }
      ]
    },
    {
      "cell_type": "markdown",
      "source": [
        "# 2. Vendas por Categoria\n"
      ],
      "metadata": {
        "id": "2V_vcAPzWZmR"
      }
    },
    {
      "cell_type": "code",
      "source": [
        "# Função para agrupar vendas por categoria em um dicionário\n",
        "def contar_por_categoria(lista_vendas):\n",
        "    resultado = {}\n",
        "    for venda in lista_vendas:\n",
        "        categoria = venda['Categoria do Produto']\n",
        "        if categoria in resultado:\n",
        "            resultado[categoria] += 1\n",
        "        else:\n",
        "            resultado[categoria] = 1\n",
        "    return resultado\n",
        "\n",
        "# Contagem por loja\n",
        "categorias_loja1 = contar_por_categoria(dados_loja1)\n",
        "categorias_loja2 = contar_por_categoria(dados_loja2)\n",
        "categorias_loja3 = contar_por_categoria(dados_loja3)\n",
        "categorias_loja4 = contar_por_categoria(dados_loja4)\n",
        "\n",
        "# Mostrar apenas o top 3\n",
        "def mostrar_top3(categorias_loja, nome_loja):\n",
        "    print(f\"\\nTop 3 categorias mais populares em {nome_loja}:\")\n",
        "    ordenado = sorted(categorias_loja.items(), key=lambda x: x[1], reverse=True)\n",
        "    top3 = ordenado[:3]\n",
        "    for categoria, qtd in top3:\n",
        "        print(f\"{categoria}: {qtd} vendas\")\n",
        "\n",
        "# Exibir para todas as lojas\n",
        "mostrar_top3(categorias_loja1, \"Loja 1\")\n",
        "mostrar_top3(categorias_loja2, \"Loja 2\")\n",
        "mostrar_top3(categorias_loja3, \"Loja 3\")\n",
        "mostrar_top3(categorias_loja4, \"Loja 4\")\n",
        "\n"
      ],
      "metadata": {
        "id": "A34YupIuYhfF",
        "colab": {
          "base_uri": "https://localhost:8080/"
        },
        "outputId": "fd281c07-cc3b-4886-fe0c-0b5749032afa"
      },
      "execution_count": 8,
      "outputs": [
        {
          "output_type": "stream",
          "name": "stdout",
          "text": [
            "\n",
            "Top 3 categorias mais populares em Loja 1:\n",
            "moveis: 465 vendas\n",
            "eletronicos: 448 vendas\n",
            "brinquedos: 324 vendas\n",
            "\n",
            "Top 3 categorias mais populares em Loja 2:\n",
            "moveis: 442 vendas\n",
            "eletronicos: 422 vendas\n",
            "brinquedos: 313 vendas\n",
            "\n",
            "Top 3 categorias mais populares em Loja 3:\n",
            "moveis: 499 vendas\n",
            "eletronicos: 451 vendas\n",
            "brinquedos: 315 vendas\n",
            "\n",
            "Top 3 categorias mais populares em Loja 4:\n",
            "moveis: 480 vendas\n",
            "eletronicos: 451 vendas\n",
            "brinquedos: 338 vendas\n"
          ]
        }
      ]
    },
    {
      "cell_type": "markdown",
      "source": [
        "# 3. Média de Avaliação das Lojas"
      ],
      "metadata": {
        "id": "Rq6tU_xSY3jk"
      }
    },
    {
      "cell_type": "code",
      "source": [
        "#Função para somar as avaliações por loja e tirar a media\n",
        "def calcular_media_avaliacao(lista_vendas):\n",
        "    soma = 0\n",
        "    qtd = 0\n",
        "    for venda in lista_vendas:\n",
        "        nota = venda['Avaliação da compra']\n",
        "        soma += nota\n",
        "        qtd += 1\n",
        "    if qtd == 0:\n",
        "        return 0\n",
        "    return round(soma / qtd, 2)\n",
        "\n",
        "# Calcula para cada loja\n",
        "media_avaliacao_loja1 = calcular_media_avaliacao(dados_loja1)\n",
        "media_avaliacao_loja2 = calcular_media_avaliacao(dados_loja2)\n",
        "media_avaliacao_loja3 = calcular_media_avaliacao(dados_loja3)\n",
        "media_avaliacao_loja4 = calcular_media_avaliacao(dados_loja4)\n",
        "\n",
        "# Exibe resultados\n",
        "print(\"Média de avaliação Loja 1:\", media_avaliacao_loja1)\n",
        "print(\"Média de avaliação Loja 2:\", media_avaliacao_loja2)\n",
        "print(\"Média de avaliação Loja 3:\", media_avaliacao_loja3)\n",
        "print(\"Média de avaliação Loja 4:\", media_avaliacao_loja4)\n"
      ],
      "metadata": {
        "id": "bh3jjjJwY5MU",
        "colab": {
          "base_uri": "https://localhost:8080/"
        },
        "outputId": "bda26c97-2fe5-48c3-c6dc-5ff4fc074fe9"
      },
      "execution_count": 9,
      "outputs": [
        {
          "output_type": "stream",
          "name": "stdout",
          "text": [
            "Média de avaliação Loja 1: 3.98\n",
            "Média de avaliação Loja 2: 4.04\n",
            "Média de avaliação Loja 3: 4.05\n",
            "Média de avaliação Loja 4: 4.0\n"
          ]
        }
      ]
    },
    {
      "cell_type": "code",
      "source": [
        "# Para saber qual loja teve a melhor e a pior media\n",
        "# Função para guardar médias em dicionário\n",
        "medias_avaliacao = {\n",
        "    'Loja 1': media_avaliacao_loja1,\n",
        "    'Loja 2': media_avaliacao_loja2,\n",
        "    'Loja 3': media_avaliacao_loja3,\n",
        "    'Loja 4': media_avaliacao_loja4\n",
        "}\n",
        "\n",
        "# Encontrar maior e menor\n",
        "melhor_loja = max(medias_avaliacao, key=medias_avaliacao.get)\n",
        "melhor_nota = medias_avaliacao[melhor_loja]\n",
        "\n",
        "pior_loja = min(medias_avaliacao, key=medias_avaliacao.get)\n",
        "pior_nota = medias_avaliacao[pior_loja]\n",
        "\n",
        "# Exibir resultado\n",
        "print(f\"A loja com o melhor avaliação foi a {melhor_loja}, com nota {melhor_nota} e a com a pior avaliação foi a {pior_loja}, com nota {pior_nota}\")\n"
      ],
      "metadata": {
        "id": "I0KkjPoTY88F",
        "colab": {
          "base_uri": "https://localhost:8080/"
        },
        "outputId": "1fd42610-4223-495b-a3fa-b04c552b1e5f"
      },
      "execution_count": 10,
      "outputs": [
        {
          "output_type": "stream",
          "name": "stdout",
          "text": [
            "A loja com o melhor avaliação foi a Loja 3, com nota 4.05 e a com a pior avaliação foi a Loja 1, com nota 3.98\n"
          ]
        }
      ]
    },
    {
      "cell_type": "markdown",
      "source": [
        "# 4. Produtos Mais e Menos Vendidos"
      ],
      "metadata": {
        "id": "DmNp1KPBZCm-"
      }
    },
    {
      "cell_type": "code",
      "source": [
        "# Função para contar vendas por produto\n",
        "def contar_por_produto(lista_vendas):\n",
        "    contagem = {}\n",
        "    for venda in lista_vendas:\n",
        "        produto = venda['Produto']\n",
        "        if produto in contagem:\n",
        "            contagem[produto] += 1\n",
        "        else:\n",
        "            contagem[produto] = 1\n",
        "    return contagem\n",
        "\n",
        "#Chama a função para cada loja\n",
        "contagem_loja1 = contar_por_produto(dados_loja1)\n",
        "contagem_loja2 = contar_por_produto(dados_loja2)\n",
        "contagem_loja3 = contar_por_produto(dados_loja3)\n",
        "contagem_loja4 = contar_por_produto(dados_loja4)\n",
        "\n",
        "# Função para identificar mais e menos vendidos\n",
        "def identificar_extremos(contagem):\n",
        "    mais_vendido = max(contagem, key=contagem.get)\n",
        "    menos_vendido = min(contagem, key=contagem.get)\n",
        "    return (mais_vendido, contagem[mais_vendido]), (menos_vendido, contagem[menos_vendido])\n",
        "\n",
        "# Função exibir resultados\n",
        "def exibir_extremos_loja(nome_loja, contagem):\n",
        "    mais, menos = identificar_extremos(contagem)\n",
        "    print(f\"\\nResumo de vendas da {nome_loja}:\")\n",
        "    print(f\"Produto mais vendido: {mais[0]} ({mais[1]} vendas)\")\n",
        "    print(f\"Produto menos vendido: {menos[0]} ({menos[1]} vendas)\")\n",
        "\n",
        "# Chama função para todas as lojas\n",
        "exibir_extremos_loja(\"Loja 1\", contagem_loja1)\n",
        "exibir_extremos_loja(\"Loja 2\", contagem_loja2)\n",
        "exibir_extremos_loja(\"Loja 3\", contagem_loja3)\n",
        "exibir_extremos_loja(\"Loja 4\", contagem_loja4)\n"
      ],
      "metadata": {
        "id": "qoyjqijQZHfF",
        "colab": {
          "base_uri": "https://localhost:8080/"
        },
        "outputId": "58142f98-26fa-438a-9604-b09dafc6c301"
      },
      "execution_count": 13,
      "outputs": [
        {
          "output_type": "stream",
          "name": "stdout",
          "text": [
            "\n",
            "Resumo de vendas da Loja 1:\n",
            "Produto mais vendido: Micro-ondas (60 vendas)\n",
            "Produto menos vendido: Headset (33 vendas)\n",
            "\n",
            "Resumo de vendas da Loja 2:\n",
            "Produto mais vendido: Iniciando em programação (65 vendas)\n",
            "Produto menos vendido: Jogo de tabuleiro (32 vendas)\n",
            "\n",
            "Resumo de vendas da Loja 3:\n",
            "Produto mais vendido: Kit banquetas (57 vendas)\n",
            "Produto menos vendido: Blocos de montar (35 vendas)\n",
            "\n",
            "Resumo de vendas da Loja 4:\n",
            "Produto mais vendido: Cama box (62 vendas)\n",
            "Produto menos vendido: Guitarra (33 vendas)\n"
          ]
        }
      ]
    },
    {
      "cell_type": "markdown",
      "source": [
        "# 5. Frete Médio por Loja\n"
      ],
      "metadata": {
        "id": "Fl0cGi3bZKqU"
      }
    },
    {
      "cell_type": "code",
      "source": [
        "# Função para somar e tirar a media de frete de cada loja\n",
        "def calcular_media_frete(lista_vendas):\n",
        "    soma_frete = 0\n",
        "    qtd_vendas = 0\n",
        "    for venda in lista_vendas:\n",
        "        frete = venda['Frete']\n",
        "        soma_frete += frete\n",
        "        qtd_vendas += 1\n",
        "    if qtd_vendas == 0:\n",
        "        return 0\n",
        "    return round(soma_frete / qtd_vendas, 2)\n",
        "\n",
        "# Função para cada loja\n",
        "media_frete_loja1 = calcular_media_frete(dados_loja1)\n",
        "media_frete_loja2 = calcular_media_frete(dados_loja2)\n",
        "media_frete_loja3 = calcular_media_frete(dados_loja3)\n",
        "media_frete_loja4 = calcular_media_frete(dados_loja4)\n",
        "\n",
        "# Exibir resultados\n",
        "print(\"Média de frete Loja 1: R$\", media_frete_loja1)\n",
        "print(\"Média de frete Loja 2: R$\", media_frete_loja2)\n",
        "print(\"Média de frete Loja 3: R$\", media_frete_loja3)\n",
        "print(\"Média de frete Loja 4: R$\", media_frete_loja4)\n"
      ],
      "metadata": {
        "id": "S2JeaCykZNy9",
        "colab": {
          "base_uri": "https://localhost:8080/"
        },
        "outputId": "e685488c-8f66-4d2e-97e3-d40db9b92b47"
      },
      "execution_count": 14,
      "outputs": [
        {
          "output_type": "stream",
          "name": "stdout",
          "text": [
            "Média de frete Loja 1: R$ 34.69\n",
            "Média de frete Loja 2: R$ 33.62\n",
            "Média de frete Loja 3: R$ 33.07\n",
            "Média de frete Loja 4: R$ 31.28\n"
          ]
        }
      ]
    },
    {
      "cell_type": "code",
      "source": [
        "# Guardar todas as médias em um dicionário\n",
        "medias_frete = {\n",
        "    'Loja 1': media_frete_loja1,\n",
        "    'Loja 2': media_frete_loja2,\n",
        "    'Loja 3': media_frete_loja3,\n",
        "    'Loja 4': media_frete_loja4\n",
        "}\n",
        "\n",
        "# Encontrar maior e menor\n",
        "maior_loja_frete = max(medias_frete, key=medias_frete.get)\n",
        "maior_media = medias_frete[maior_loja_frete]\n",
        "\n",
        "menor_loja_frete = min(medias_frete, key=medias_frete.get)\n",
        "menor_media = medias_frete[menor_loja_frete]\n",
        "\n",
        "# Exibir resultado\n",
        "# Exibir resultado\n",
        "print(f\"A loja com a menor media de frete é a {menor_loja_frete}, com valor de {menor_media} e a com a maior média foi a {maior_loja_frete}, com valor {maior_media}\")"
      ],
      "metadata": {
        "id": "0tSdCie9ZQlt",
        "colab": {
          "base_uri": "https://localhost:8080/"
        },
        "outputId": "38b3094e-d1ab-47b1-d0a8-e54a72558fac"
      },
      "execution_count": 15,
      "outputs": [
        {
          "output_type": "stream",
          "name": "stdout",
          "text": [
            "A loja com a menor media de frete é a Loja 4, com valor de 31.28 e a com a maior média foi a Loja 1, com valor 34.69\n"
          ]
        }
      ]
    },
    {
      "cell_type": "markdown",
      "source": [
        "# 6. Gráficos"
      ],
      "metadata": {
        "id": "6SW0QeXr-o5D"
      }
    },
    {
      "cell_type": "code",
      "source": [
        "# Grafico compartivo de faturamento em paralelo com média de avaliação dos clientes\n",
        "import matplotlib.pyplot as plt\n",
        "\n",
        "# Dados\n",
        "lojas = ['Loja 1', 'Loja 2', 'Loja 3', 'Loja 4']\n",
        "faturamentos = [faturamento_loja1, faturamento_loja2, faturamento_loja3, faturamento_loja4]\n",
        "avaliacoes = [media_avaliacao_loja1, media_avaliacao_loja2, media_avaliacao_loja3, media_avaliacao_loja4]\n",
        "\n",
        "fig, ax1 = plt.subplots(figsize=(8,6))\n",
        "\n",
        "# Gráfico de barras para faturamento\n",
        "bars = ax1.bar(lojas, faturamentos, color=['blue', 'orange', 'green', 'red'])\n",
        "ax1.set_xlabel('Lojas')\n",
        "ax1.set_ylabel('Faturamento (R$)')\n",
        "ax1.set_title('Faturamento e Média de Avaliação por Loja')\n",
        "\n",
        "# Texto em cima das barras\n",
        "for bar in bars:\n",
        "    altura = bar.get_height()\n",
        "    ax1.text(bar.get_x() + bar.get_width()/2, altura, f'{altura:,.2f}', ha='center', va='bottom')\n",
        "\n",
        "\n",
        "# Criar um segundo eixo y para média de avaliação\n",
        "ax2 = ax1.twinx()\n",
        "ax2.plot(lojas, avaliacoes, color='black', marker='o', linewidth=2, label='Média Avaliação')\n",
        "ax2.set_ylabel('Média de Avaliação')\n",
        "ax2.set_ylim(0, 5)  # notas vão até 5\n",
        "\n",
        "# Adicionar os valores das avaliações como texto no gráfico\n",
        "for i, nota in enumerate(avaliacoes):\n",
        "    ax2.text(i, nota + 0.1, f'{nota:.2f}', ha='center', va='bottom', color='black')\n",
        "\n",
        "# Legenda para a linha\n",
        "ax2.legend(loc='upper right', fontsize=10)\n",
        "\n",
        "plt.show()\n",
        "\n"
      ],
      "metadata": {
        "colab": {
          "base_uri": "https://localhost:8080/",
          "height": 565
        },
        "id": "3RBP_Ap4_Omh",
        "outputId": "ae40ca4f-8ff0-4d45-c84d-7dceaae43600"
      },
      "execution_count": 25,
      "outputs": [
        {
          "output_type": "display_data",
          "data": {
            "text/plain": [
              "<Figure size 800x600 with 2 Axes>"
            ],
            "image/png": "[encoded data removed]"
          },
          "metadata": {}
        }
      ]
    },
    {
      "cell_type": "code",
      "source": [
        "#Gráfico de comparação de média de fretes\n",
        "import matplotlib.pyplot as plt\n",
        "\n",
        "labels = ['Loja 1', 'Loja 2', 'Loja 3', 'Loja 4']\n",
        "medias_frete = [media_frete_loja1, media_frete_loja2, media_frete_loja3, media_frete_loja4]\n",
        "\n",
        "def func_valor_real(pct, allvals):\n",
        "    absolute = pct/100 * sum(allvals)\n",
        "    return f'R$ {absolute:.2f}'\n",
        "\n",
        "plt.figure(figsize=(7,7))\n",
        "plt.pie(\n",
        "    medias_frete,\n",
        "    labels=labels,\n",
        "    autopct=lambda pct: func_valor_real(pct, medias_frete),\n",
        "    startangle=140,\n",
        "    colors=['blue', 'orange', 'green', 'red']\n",
        ")\n",
        "plt.title('Proporção do Custo Médio de Frete por Loja')\n",
        "plt.show()\n",
        "\n"
      ],
      "metadata": {
        "colab": {
          "base_uri": "https://localhost:8080/",
          "height": 598
        },
        "id": "iPK0g7_I_dM-",
        "outputId": "14fa3557-579d-4241-8888-bc2987378042"
      },
      "execution_count": 29,
      "outputs": [
        {
          "output_type": "display_data",
          "data": {
            "text/plain": [
              "<Figure size 700x700 with 1 Axes>"
            ],
            "image/png": "[encoded data removed]"
          },
          "metadata": {}
        }
      ]
    },
    {
      "cell_type": "code",
      "source": [
        "#Grafico comparativo de faturamento das categorais mais vendidas entre lojas\n",
        "import matplotlib.pyplot as plt\n",
        "import numpy as np\n",
        "\n",
        "lojas = ['Loja 1', 'Loja 2', 'Loja 3', 'Loja 4']\n",
        "\n",
        "def faturamento_por_categoria(dados_loja):\n",
        "    faturamento_cat = {}\n",
        "    for venda in dados_loja:\n",
        "        categoria = venda['Categoria do Produto']\n",
        "        preco = float(venda['Preço'])\n",
        "        faturamento_cat[categoria] = faturamento_cat.get(categoria, 0) + preco\n",
        "    return faturamento_cat\n",
        "\n",
        "# Calcular faturamento por categoria para cada loja e pegar top 3\n",
        "top3_categorias = []\n",
        "faturamentos_top3 = []\n",
        "\n",
        "for dados_loja in [dados_loja1, dados_loja2, dados_loja3, dados_loja4]:\n",
        "    faturamento_cat = faturamento_por_categoria(dados_loja)\n",
        "    top3 = sorted(faturamento_cat.items(), key=lambda x: x[1], reverse=True)[:3]\n",
        "    categorias, faturamentos = zip(*top3)\n",
        "    top3_categorias.append(categorias)\n",
        "    faturamentos_top3.append(faturamentos)\n",
        "\n",
        "# Preparar posições para as barras (4 lojas x 3 categorias)\n",
        "indices = np.arange(len(lojas))\n",
        "altura_barra = 0.2\n",
        "\n",
        "plt.figure(figsize=(12, 8))\n",
        "\n",
        "for i in range(3):  # 3 categorias\n",
        "    valores = [faturamentos_top3[j][i] for j in range(4)]\n",
        "    posicoes = indices + i * altura_barra\n",
        "    plt.barh(posicoes, valores, height=altura_barra, label=f'Categoria: {top3_categorias[0][i]}')\n",
        "\n",
        "plt.yticks(indices + altura_barra, lojas)\n",
        "plt.xlabel('Faturamento (R$)')\n",
        "plt.title('Top 3 Categorias por Faturamento em Cada Loja')\n",
        "plt.legend()\n",
        "plt.gca().invert_yaxis()  # Inverter para a loja 1 ficar no topo\n",
        "\n",
        "plt.show()\n"
      ],
      "metadata": {
        "colab": {
          "base_uri": "https://localhost:8080/",
          "height": 718
        },
        "id": "B2QMP-m5BfFx",
        "outputId": "137fbba4-37ea-4589-aad3-ad0e89dc30cd"
      },
      "execution_count": 35,
      "outputs": [
        {
          "output_type": "display_data",
          "data": {
            "text/plain": [
              "<Figure size 1200x800 with 1 Axes>"
            ],
            "image/png": "[encoded data removed]"
          },
          "metadata": {}
        }
      ]
    }
  ]
}